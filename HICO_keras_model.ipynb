{
 "cells": [
  {
   "cell_type": "markdown",
   "metadata": {},
   "source": [
    "#以下尚未處理\n",
    "input: \"data\"    input_shape {1, 3, 227, 227}\n",
    "input: \"rois_h\"  input_shape {1, 5} # changed num ROIs, [batch ind, x1, y1, x2, y2] zero-based indexing\n",
    "input: \"rois_o\"  input_shape {1, 5} # changed num ROIs, [batch ind, x1, y1, x2, y2] zero-based indexing\n",
    "input: \"data_p\"  input_shape {1, 2, 64, 64}\n",
    "input: \"score_o\" input_shape {1, 1}"
   ]
  },
  {
   "cell_type": "code",
   "execution_count": 1,
   "metadata": {},
   "outputs": [
    {
     "name": "stderr",
     "output_type": "stream",
     "text": [
      "Using TensorFlow backend.\n"
     ]
    }
   ],
   "source": [
    "from __future__ import division, print_function\n",
    "from keras import backend as K\n",
    "from keras.layers import Input, concatenate, Add\n",
    "from keras.layers.core import Activation, Dense, Flatten\n",
    "from keras.layers.convolutional import Convolution2D, ZeroPadding2D\n",
    "from keras.layers.normalization import BatchNormalization\n",
    "from keras.layers.pooling import MaxPooling2D, GlobalAveragePooling2D\n",
    "from keras.models import Model\n",
    "from keras.engine.topology import Layer\n",
    "from keras.preprocessing import image\n",
    "import keras.optimizers\n",
    "from sklearn.utils import shuffle\n",
    "from keras.metrics import top_k_categorical_accuracy\n",
    "from keras.callbacks import EarlyStopping, ModelCheckpoint\n",
    "from sklearn.model_selection import train_test_split\n",
    "\n",
    "import tensorflow as tf\n",
    "\n",
    "from scipy.misc import imresize\n",
    "import matplotlib.pyplot as plt\n",
    "import numpy as np\n",
    "import pandas as pd\n",
    "import os\n",
    "import re\n",
    "import cv2\n",
    "import matplotlib.pyplot as plt\n",
    "import glob\n",
    "%matplotlib inline\n",
    "from pathlib import Path\n",
    "\n",
    "# run 這行可以讓等等 array print 出來是完整而沒有省略\n",
    "# np.set_printoptions(threshold=np.inf)"
   ]
  },
  {
   "cell_type": "code",
   "execution_count": 2,
   "metadata": {
    "collapsed": true
   },
   "outputs": [],
   "source": [
    "home = str(Path.home())\n",
    "data_path =home + '/projectdata/cht01/hico_20160224_det'"
   ]
  },
  {
   "cell_type": "markdown",
   "metadata": {},
   "source": [
    "# Custom layer"
   ]
  },
  {
   "cell_type": "markdown",
   "metadata": {},
   "source": [
    "## ROI Pooling layer"
   ]
  },
  {
   "cell_type": "code",
   "execution_count": 3,
   "metadata": {
    "collapsed": true
   },
   "outputs": [],
   "source": [
    "class RoiPoolingConv(Layer):\n",
    "    '''ROI pooling layer for 2D inputs.\n",
    "    # Arguments\n",
    "        pool_size: nxn region.\n",
    "    # Input shape\n",
    "        list of two 4D tensors [X_img,X_roi] with shape:\n",
    "        X_img:\n",
    "        `(batch_size, image_height, image_width, image_channels)`\n",
    "        X_roi:\n",
    "        `(batch_size, 4)` list of rois, with ordering (y1, x1, y2, x2)\n",
    "    # Output shape\n",
    "        3D tensor with shape:\n",
    "        `(batch_size, pool_size, pool_size, channels)`\n",
    "    '''\n",
    "    #参数定义\n",
    "    def __init__(self, pool_size, **kwargs):\n",
    "\n",
    "        self.dim_ordering = K.image_dim_ordering()\n",
    "        assert self.dim_ordering in {'tf', 'th'}, 'dim_ordering must be in {tf, th}'\n",
    "\n",
    "        self.pool_size = pool_size\n",
    "#         self.num_rois = num_rois\n",
    "\n",
    "        super(RoiPoolingConv, self).__init__(**kwargs)\n",
    "\n",
    "    def build(self, input_shape):\n",
    "        self.nb_channels = input_shape[0][3]\n",
    "            \n",
    "        super(RoiPoolingConv, self).build(input_shape)  # Be sure to call this somewhere!\n",
    "\n",
    "    def compute_output_shape(self, input_shape):\n",
    "        return None, self.pool_size, self.pool_size, self.nb_channels\n",
    "\n",
    "    def call(self, x, mask=None):\n",
    "        assert(len(x) == 2) # input is a list with 2 elements\n",
    "\n",
    "        imgs = x[0]\n",
    "        boxs = x[1]\n",
    "        box_inds = tf.range(0, tf.shape(imgs)[0], delta=1) # create list [0, 1, ..., batch_size - 1]\n",
    "        \n",
    "        '''\n",
    "        tf.image.crop_and_resize\n",
    "        image : [batch_size, image_height, image_width, depth]\n",
    "        boxes : [num_boxes, y1, x1, y2, x2]\n",
    "        box_ind : [batch_size], image for i-th box\n",
    "        '''\n",
    "        # image \n",
    "        proc_imgs = tf.image.crop_and_resize(image=imgs, \n",
    "                                             boxes=boxs, \n",
    "                                             crop_size=[self.pool_size, self.pool_size], \n",
    "                                             box_ind=box_inds)\n",
    "        \n",
    "        return proc_imgs\n",
    "\n",
    "#     def get_config(self):\n",
    "#         config = {'pool_size': self.pool_size,\n",
    "#                   'num_rois':  self.num_rois}\n",
    "#         base_config = super(RoiPoolingConv, self).get_config()\n",
    "#         return dict(list(base_config.items()) + list(config.items()))"
   ]
  },
  {
   "cell_type": "markdown",
   "metadata": {},
   "source": [
    "## Test RoI pooling layer"
   ]
  },
  {
   "cell_type": "code",
   "execution_count": 4,
   "metadata": {
    "collapsed": true
   },
   "outputs": [],
   "source": [
    "inputs_1 = Input(shape=(227,227,3)) \n",
    "inputs_2 = Input(shape=(4,))\n",
    "roi_pool = RoiPoolingConv(100)([inputs_1, inputs_2])"
   ]
  },
  {
   "cell_type": "code",
   "execution_count": 5,
   "metadata": {},
   "outputs": [
    {
     "name": "stdout",
     "output_type": "stream",
     "text": [
      "__________________________________________________________________________________________________\n",
      "Layer (type)                    Output Shape         Param #     Connected to                     \n",
      "==================================================================================================\n",
      "input_1 (InputLayer)            (None, 227, 227, 3)  0                                            \n",
      "__________________________________________________________________________________________________\n",
      "input_2 (InputLayer)            (None, 4)            0                                            \n",
      "__________________________________________________________________________________________________\n",
      "roi_pooling_conv_1 (RoiPoolingC (None, 100, 100, 3)  0           input_1[0][0]                    \n",
      "                                                                 input_2[0][0]                    \n",
      "==================================================================================================\n",
      "Total params: 0\n",
      "Trainable params: 0\n",
      "Non-trainable params: 0\n",
      "__________________________________________________________________________________________________\n"
     ]
    }
   ],
   "source": [
    "model = Model(inputs=[inputs_1, inputs_2], outputs=[roi_pool])\n",
    "model.summary()"
   ]
  },
  {
   "cell_type": "code",
   "execution_count": 6,
   "metadata": {},
   "outputs": [
    {
     "data": {
      "text/plain": [
       "(2, 227, 227, 3)"
      ]
     },
     "execution_count": 6,
     "metadata": {},
     "output_type": "execute_result"
    }
   ],
   "source": [
    "img_path = data_path + '/images/train2015/' + 'HICO_train2015_00000001.jpg'\n",
    "img = image.load_img(img_path, target_size=(227, 227, 3))\n",
    "img_arr1 = image.img_to_array(img)\n",
    "\n",
    "img_path = data_path + '/images/train2015/' + 'HICO_train2015_00000001.jpg'\n",
    "img = image.load_img(img_path, target_size=(227, 227, 3))\n",
    "img_arr2 = image.img_to_array(img)\n",
    "input_img = np.array([img_arr1, img_arr2])\n",
    "input_img.shape"
   ]
  },
  {
   "cell_type": "code",
   "execution_count": 7,
   "metadata": {},
   "outputs": [
    {
     "name": "stdout",
     "output_type": "stream",
     "text": [
      "[[ 0.   0.   0.5  0.5]\n",
      " [ 0.5  0.5  1.   1. ]]\n",
      "(2, 4)\n"
     ]
    }
   ],
   "source": [
    "input_roi = np.array([[0,0,0.5,0.5],\n",
    "                      [0.5,0.5,1,1]], dtype=np.float32)\n",
    "\n",
    "print(input_roi)\n",
    "print(input_roi.shape)"
   ]
  },
  {
   "cell_type": "code",
   "execution_count": 8,
   "metadata": {
    "collapsed": true
   },
   "outputs": [],
   "source": [
    "cropped = model.predict([input_img, input_roi])"
   ]
  },
  {
   "cell_type": "code",
   "execution_count": 9,
   "metadata": {},
   "outputs": [
    {
     "data": {
      "image/png": "[encoded data removed]",
      "text/plain": [
       "<matplotlib.figure.Figure at 0x7f71923a7940>"
      ]
     },
     "metadata": {},
     "output_type": "display_data"
    },
    {
     "data": {
      "image/png": "[encoded data removed]",
      "text/plain": [
       "<matplotlib.figure.Figure at 0x7f71902a94e0>"
      ]
     },
     "metadata": {},
     "output_type": "display_data"
    }
   ],
   "source": [
    "plt.imshow(cropped[0].astype(np.uint8))\n",
    "plt.show()\n",
    "\n",
    "plt.imshow(cropped[1].astype(np.uint8))\n",
    "plt.show()"
   ]
  },
  {
   "cell_type": "markdown",
   "metadata": {},
   "source": [
    "## LRN layer"
   ]
  },
  {
   "cell_type": "code",
   "execution_count": 10,
   "metadata": {
    "collapsed": true
   },
   "outputs": [],
   "source": [
    "class LRN(Layer):\n",
    "    def __init__(self, n=5, alpha=0.0001, beta=0.75, k=2, **kwargs):\n",
    "        self.n = n\n",
    "        self.alpha = alpha\n",
    "        self.beta = beta\n",
    "        self.k = k\n",
    "        super(LRN, self).__init__(**kwargs)\n",
    "\n",
    "    def build(self, input_shape):\n",
    "        self.shape = input_shape\n",
    "        super(LRN, self).build(input_shape)\n",
    "\n",
    "    def call(self, x, mask=None):\n",
    "        if K.image_dim_ordering == \"th\":\n",
    "            _, f, r, c = self.shape\n",
    "        else:\n",
    "            _, r, c, f = self.shape\n",
    "        half_n = self.n // 2\n",
    "        squared = K.square(x)\n",
    "\n",
    "        pooled = K.pool2d(squared, (half_n, half_n), strides=(1, 1),padding=\"same\",pool_mode=\"avg\")\n",
    "        if K.image_dim_ordering == \"th\":\n",
    "            summed = K.sum(pooled, axis=1, keepdims=True)\n",
    "            averaged = (self.alpha / self.n) * K.repeat_elements(summed, f, axis=1)\n",
    "        else:\n",
    "            summed = K.sum(pooled, axis=3, keepdims=True)\n",
    "            averaged = (self.alpha / self.n) * K.repeat_elements(summed, f, axis=3)\n",
    "        denom = K.pow(self.k + averaged, self.beta)\n",
    "        return x / denom\n",
    "    \n",
    "    def get_output_shape_for(self, input_shape):\n",
    "        return input_shape"
   ]
  },
  {
   "cell_type": "markdown",
   "metadata": {},
   "source": [
    "# pairwise data with / without padding"
   ]
  },
  {
   "cell_type": "code",
   "execution_count": 11,
   "metadata": {
    "collapsed": true
   },
   "outputs": [],
   "source": [
    "\"\"\"\n",
    "Input:\n",
    "box1: 4 np array with coordinates representing the first box {x11, y11, x12, y12}\n",
    "box2: 4 np array with coordinates representing the second box {x21, y21, x22, y22}\n",
    "length: scaling factor\n",
    "        \n",
    "Returns:\n",
    "3D np array (2 x length x length), with the first dimension representing the filter \n",
    "on human, and the second dimension representing the filter on object \n",
    "\"\"\"\n",
    "\n",
    "def get_map_n_pad(box1, box2, length):\n",
    "\n",
    "    # get minimum x, y\n",
    "    x_min = min(box1[0], box2[0])\n",
    "    y_min = min(box1[1], box2[1])\n",
    "    # translate\n",
    "    bx1 = np.array([box1[0] - x_min, box1[1] - y_min,\n",
    "                    box1[2] - x_min, box1[3] - y_min], dtype=np.float32)\n",
    "    bx2 = np.array([box2[0] - x_min, box2[1] - y_min,\n",
    "                    box2[2] - x_min, box2[3] - y_min], dtype=np.float32)\n",
    "    # get new width and height\n",
    "    w = max(bx1[2], bx2[2]) - min(bx1[0], bx2[0])\n",
    "    h = max(bx1[3], bx2[3]) - min(bx1[1], bx2[1])\n",
    "    # scale\n",
    "    factor_w = np.float(length) / np.float(w)\n",
    "    factor_h = np.float(length) / np.float(h)\n",
    "    bx1_rs = np.array([bx1[0] * factor_w, bx1[1] * factor_h,\n",
    "                       bx1[2] * factor_w, bx1[3] * factor_h])\n",
    "    bx2_rs = np.array([bx2[0] * factor_w, bx2[1] * factor_h,\n",
    "                       bx2[2] * factor_w, bx2[3] * factor_h])\n",
    "\n",
    "    # generate map\n",
    "    map_1 = np.zeros([length, length], dtype=np.uint8)\n",
    "    map_2 = np.zeros([length, length], dtype=np.uint8)\n",
    "    for i in range(int(round(bx1_rs[1])), int(round(bx1_rs[3]))):\n",
    "        for j in range(int(round(bx1_rs[0])), int(round(bx1_rs[2]))):\n",
    "            map_1[i][j] = 1\n",
    "    for i in range(int(round(bx2_rs[1])), int(round(bx2_rs[3]))):\n",
    "        for j in range(int(round(bx2_rs[0])), int(round(bx2_rs[2]))):\n",
    "            map_2[i][j] = 1\n",
    "    return np.array([map_1, map_2]), bx1_rs, bx2_rs\n",
    "\n",
    "def get_map_w_pad(box1, box2, length):\n",
    "\n",
    "    # get minimum x, y\n",
    "    x_min = min(box1[0], box2[0])\n",
    "    y_min = min(box1[1], box2[1])\n",
    "    \n",
    "    # translate\n",
    "    bx1 = np.array([box1[0] - x_min, box1[1] - y_min,\n",
    "                    box1[2] - x_min, box1[3] - y_min], dtype=np.float32)\n",
    "    bx2 = np.array([box2[0] - x_min, box2[1] - y_min,\n",
    "                    box2[2] - x_min, box2[3] - y_min], dtype=np.float32)\n",
    "\n",
    "    # get new width and height\n",
    "    w = max(bx1[2], bx2[2]) - min(bx1[0], bx2[0])\n",
    "    h = max(bx1[3], bx2[3]) - min(bx1[1], bx2[1])\n",
    "    # scale\n",
    "    if h > w:\n",
    "        factor = np.float(length) / np.float(h)\n",
    "        num_pad = int(round((length - factor * w) / 2.0))\n",
    "        bx1_rs = np.array([bx1[0] * factor + num_pad, bx1[1] * factor,\n",
    "                           bx1[2] * factor + num_pad, bx1[3] * factor])\n",
    "        bx2_rs = np.array([bx2[0] * factor + num_pad, bx2[1] * factor,\n",
    "                           bx2[2] * factor + num_pad, bx2[3] * factor])\n",
    "    else:\n",
    "        factor = np.float(length) / np.float(w)\n",
    "        num_pad = int(round((length - factor * h) / 2.0))\n",
    "        bx1_rs = np.array([bx1[0] * factor, bx1[1] * factor + num_pad,\n",
    "                           bx1[2] * factor, bx1[3] * factor + num_pad])\n",
    "        bx2_rs = np.array([bx2[0] * factor, bx2[1] * factor + num_pad,\n",
    "                           bx2[2] * factor, bx2[3] * factor + num_pad])\n",
    "\n",
    "    # generate map\n",
    "    map_1 = np.zeros([length, length], dtype=np.uint8)\n",
    "    map_2 = np.zeros([length, length], dtype=np.uint8)\n",
    "    for i in range(int(round(bx1_rs[1])), int(round(bx1_rs[3]))):\n",
    "        for j in range(int(round(bx1_rs[0])), int(round(bx1_rs[2]))):\n",
    "            map_1[i][j] = 1\n",
    "    for i in range(int(round(bx2_rs[1])), int(round(bx2_rs[3]))):\n",
    "        for j in range(int(round(bx2_rs[0])), int(round(bx2_rs[2]))):\n",
    "            map_2[i][j] = 1\n",
    "    return np.array([map_1, map_2]), bx1_rs, bx2_rs"
   ]
  },
  {
   "cell_type": "markdown",
   "metadata": {},
   "source": [
    "# Load data"
   ]
  },
  {
   "cell_type": "code",
   "execution_count": 12,
   "metadata": {
    "collapsed": true
   },
   "outputs": [],
   "source": [
    "imgDir = data_path + '/images/train2015/'\n",
    "\n",
    "img_hoi_train = pd.read_csv('img_hoi_train_new.csv',   encoding = \"utf-8\")\n",
    "action_list   = pd.read_csv('hico_det/action_list.csv',encoding = \"utf-8\") \n",
    "\n",
    "img_hoi_train = img_hoi_train.rename(columns = {'human_bbox':'hum_bbox'})\n",
    "\n",
    "# string -> list\n",
    "img_hoi_train['rois_h'] = img_hoi_train['rois_h'].apply(lambda x: list(map(float,x.strip('[]').split(','))))\n",
    "img_hoi_train['rois_o'] = img_hoi_train['rois_o'].apply(lambda x: list(map(float,x.strip('[]').split(','))))\n",
    "\n",
    "img_hoi_train['hum_bbox'] = img_hoi_train['hum_bbox'].apply(lambda x: list(map(int,x.strip('[]').split(','))))\n",
    "img_hoi_train['obj_bbox'] = img_hoi_train['obj_bbox'].apply(lambda x: list(map(int,x.strip('[]').split(','))))\n",
    "\n",
    "# list -> array, coordinates on feature map (13*13) -> ratio (1 as denominator)\n",
    "img_hoi_train['rois_h'] = img_hoi_train['rois_h'].apply(lambda x: np.asarray(x) / 13)\n",
    "img_hoi_train['rois_o'] = img_hoi_train['rois_o'].apply(lambda x: np.asarray(x) / 13)\n",
    "\n",
    "# [x1,x2,y1,y2] -> [y1,x1,y2,x2], for def ROI pooling setting, array兩層 為了input model\n",
    "img_hoi_train['rois_h'] = img_hoi_train['rois_h'].apply(lambda x: [ x[2],x[0],x[3],x[1] ])\n",
    "img_hoi_train['rois_o'] = img_hoi_train['rois_o'].apply(lambda x: [ x[2],x[0],x[3],x[1] ])\n",
    "\n",
    "#img_hoi_train.to_csv('img_hoi_train_new_ROIpool.csv')\n",
    "\n",
    "img_hoi_train['score'] = 1"
   ]
  },
  {
   "cell_type": "code",
   "execution_count": 13,
   "metadata": {},
   "outputs": [
    {
     "data": {
      "text/html": [
       "<div>\n",
       "<table border=\"1\" class=\"dataframe\">\n",
       "  <thead>\n",
       "    <tr style=\"text-align: right;\">\n",
       "      <th></th>\n",
       "      <th>Unnamed: 0</th>\n",
       "      <th>Unnamed: 0.1</th>\n",
       "      <th>action_no</th>\n",
       "      <th>hum_bbox</th>\n",
       "      <th>name</th>\n",
       "      <th>obj_bbox</th>\n",
       "      <th>rois_o</th>\n",
       "      <th>rois_h</th>\n",
       "      <th>score</th>\n",
       "    </tr>\n",
       "  </thead>\n",
       "  <tbody>\n",
       "    <tr>\n",
       "      <th>0</th>\n",
       "      <td>0</td>\n",
       "      <td>0</td>\n",
       "      <td>153</td>\n",
       "      <td>[208, 427, 33, 300]</td>\n",
       "      <td>HICO_train2015_00000001.jpg</td>\n",
       "      <td>[59, 572, 98, 405]</td>\n",
       "      <td>[0.214442013129, 0.129102844639, 0.6328125, 0....</td>\n",
       "      <td>[0.0722100656455, 0.455142231947, 0.46875, 0.6...</td>\n",
       "      <td>1</td>\n",
       "    </tr>\n",
       "    <tr>\n",
       "      <th>1</th>\n",
       "      <td>1</td>\n",
       "      <td>1</td>\n",
       "      <td>154</td>\n",
       "      <td>[213, 438, 20, 357]</td>\n",
       "      <td>HICO_train2015_00000001.jpg</td>\n",
       "      <td>[77, 583, 115, 396]</td>\n",
       "      <td>[0.251641137856, 0.168490153173, 0.61875, 0.91...</td>\n",
       "      <td>[0.0437636761488, 0.466083150985, 0.5578125, 0...</td>\n",
       "      <td>1</td>\n",
       "    </tr>\n",
       "  </tbody>\n",
       "</table>\n",
       "</div>"
      ],
      "text/plain": [
       "   Unnamed: 0  Unnamed: 0.1  action_no             hum_bbox  \\\n",
       "0           0             0        153  [208, 427, 33, 300]   \n",
       "1           1             1        154  [213, 438, 20, 357]   \n",
       "\n",
       "                          name             obj_bbox  \\\n",
       "0  HICO_train2015_00000001.jpg   [59, 572, 98, 405]   \n",
       "1  HICO_train2015_00000001.jpg  [77, 583, 115, 396]   \n",
       "\n",
       "                                              rois_o  \\\n",
       "0  [0.214442013129, 0.129102844639, 0.6328125, 0....   \n",
       "1  [0.251641137856, 0.168490153173, 0.61875, 0.91...   \n",
       "\n",
       "                                              rois_h  score  \n",
       "0  [0.0722100656455, 0.455142231947, 0.46875, 0.6...      1  \n",
       "1  [0.0437636761488, 0.466083150985, 0.5578125, 0...      1  "
      ]
     },
     "execution_count": 13,
     "metadata": {},
     "output_type": "execute_result"
    }
   ],
   "source": [
    "img_hoi_train.head(2)"
   ]
  },
  {
   "cell_type": "code",
   "execution_count": 14,
   "metadata": {},
   "outputs": [
    {
     "data": {
      "text/html": [
       "<div>\n",
       "<table border=\"1\" class=\"dataframe\">\n",
       "  <thead>\n",
       "    <tr style=\"text-align: right;\">\n",
       "      <th></th>\n",
       "      <th>Unnamed: 0</th>\n",
       "      <th>Unnamed: 0.1</th>\n",
       "      <th>action_no</th>\n",
       "      <th>hum_bbox</th>\n",
       "      <th>name</th>\n",
       "      <th>obj_bbox</th>\n",
       "      <th>rois_o</th>\n",
       "      <th>rois_h</th>\n",
       "      <th>score</th>\n",
       "    </tr>\n",
       "  </thead>\n",
       "  <tbody>\n",
       "    <tr>\n",
       "      <th>0</th>\n",
       "      <td>0</td>\n",
       "      <td>0</td>\n",
       "      <td>153</td>\n",
       "      <td>[208, 427, 33, 300]</td>\n",
       "      <td>HICO_train2015_00000001.jpg</td>\n",
       "      <td>[59, 572, 98, 405]</td>\n",
       "      <td>[0.214442013129, 0.129102844639, 0.6328125, 0....</td>\n",
       "      <td>[0.0722100656455, 0.455142231947, 0.46875, 0.6...</td>\n",
       "      <td>1</td>\n",
       "    </tr>\n",
       "    <tr>\n",
       "      <th>1</th>\n",
       "      <td>1</td>\n",
       "      <td>1</td>\n",
       "      <td>154</td>\n",
       "      <td>[213, 438, 20, 357]</td>\n",
       "      <td>HICO_train2015_00000001.jpg</td>\n",
       "      <td>[77, 583, 115, 396]</td>\n",
       "      <td>[0.251641137856, 0.168490153173, 0.61875, 0.91...</td>\n",
       "      <td>[0.0437636761488, 0.466083150985, 0.5578125, 0...</td>\n",
       "      <td>1</td>\n",
       "    </tr>\n",
       "  </tbody>\n",
       "</table>\n",
       "</div>"
      ],
      "text/plain": [
       "   Unnamed: 0  Unnamed: 0.1  action_no             hum_bbox  \\\n",
       "0           0             0        153  [208, 427, 33, 300]   \n",
       "1           1             1        154  [213, 438, 20, 357]   \n",
       "\n",
       "                          name             obj_bbox  \\\n",
       "0  HICO_train2015_00000001.jpg   [59, 572, 98, 405]   \n",
       "1  HICO_train2015_00000001.jpg  [77, 583, 115, 396]   \n",
       "\n",
       "                                              rois_o  \\\n",
       "0  [0.214442013129, 0.129102844639, 0.6328125, 0....   \n",
       "1  [0.251641137856, 0.168490153173, 0.61875, 0.91...   \n",
       "\n",
       "                                              rois_h  score  \n",
       "0  [0.0722100656455, 0.455142231947, 0.46875, 0.6...      1  \n",
       "1  [0.0437636761488, 0.466083150985, 0.5578125, 0...      1  "
      ]
     },
     "execution_count": 14,
     "metadata": {},
     "output_type": "execute_result"
    }
   ],
   "source": [
    "img_hoi_train.head(2)"
   ]
  },
  {
   "cell_type": "code",
   "execution_count": 14,
   "metadata": {},
   "outputs": [
    {
     "data": {
      "text/plain": [
       "\"\\nrois_o = np.array(batch['rois_o'].tolist())\\nrois_h = np.array(batch['rois_h'].tolist())\\n\\ndata_input_rois_o = np.expand_dims(rois_o, axis=1)\\ndata_input_rois_h = np.expand_dims(rois_h, axis=1)\\n\""
      ]
     },
     "execution_count": 14,
     "metadata": {},
     "output_type": "execute_result"
    }
   ],
   "source": [
    "'''\n",
    "rois_o = np.array(batch['rois_o'].tolist())\n",
    "rois_h = np.array(batch['rois_h'].tolist())\n",
    "\n",
    "data_input_rois_o = np.expand_dims(rois_o, axis=1)\n",
    "data_input_rois_h = np.expand_dims(rois_h, axis=1)\n",
    "'''"
   ]
  },
  {
   "cell_type": "code",
   "execution_count": null,
   "metadata": {
    "collapsed": true
   },
   "outputs": [],
   "source": [
    "'''\n",
    "p_n_pads = []\n",
    "p_w_pads = []\n",
    "for index, row in batch.iterrows():\n",
    "    hum_bbox = row['hum_bbox']\n",
    "    obj_bbox = row['obj_bbox']\n",
    "    \n",
    "    hum_bbox_t = [hum_bbox[0], hum_bbox[2], hum_bbox[1], hum_bbox[3]]\n",
    "    obj_bbox_t = [obj_bbox[0], obj_bbox[2], obj_bbox[1], obj_bbox[3]]    \n",
    "\n",
    "    p_n_pad = get_map_n_pad(hum_bbox_t,obj_bbox_t,64)\n",
    "    p_w_pad = get_map_w_pad(hum_bbox_t,obj_bbox_t,64)\n",
    "\n",
    "    p_n_pad = p_n_pad[0]\n",
    "    p_w_pad = p_w_pad[0]\n",
    "\n",
    "    p_n_pad = p_n_pad.swapaxes(0,1)\n",
    "    p_n_pad = p_n_pad.swapaxes(1,2)\n",
    "    p_n_pads.append(p_n_pad)\n",
    "\n",
    "    p_w_pad = p_w_pad.swapaxes(0,1)\n",
    "    p_w_pad = p_w_pad.swapaxes(1,2)\n",
    "    p_w_pads.append(p_w_pad)\n",
    "\n",
    "    data_input_p_n_pad = np.array(p_n_pads)\n",
    "    data_input_p_w_pad = np.array(p_w_pads)\n",
    "'''"
   ]
  },
  {
   "cell_type": "code",
   "execution_count": 15,
   "metadata": {
    "collapsed": true
   },
   "outputs": [],
   "source": [
    "# x: img_hoi_train\n",
    "# y: img_hoi_train['action_no']\n",
    "# df_action = action_list[action_list['id'] == img_hoi['action_no']]\n",
    "\n",
    "# x_batch 要做成:\n",
    "# [ img, rois_h, rois_o, p_n_pad, score_o ] or\n",
    "# [ img, rois_h, rois_o, p_w_pad, score_o ]\n",
    "\n",
    "def batch_generator(x, y, pad, bs, tot_row, imgDir):\n",
    "    while (True):\n",
    "        \n",
    "        new_ind = shuffle(range(tot_row)) # random_state=155\n",
    "        x = x.take(new_ind)\n",
    "        y = np.take(y, new_ind, axis=0)\n",
    "        \n",
    "        bat_img, bat_roi_o, bat_roi_h, bat_p_n_pad, bat_p_w_pad, bat_score_o = [],[],[],[],[],[]\n",
    "        bat_label = []\n",
    "        for i in range(len(x)):\n",
    "            row = x.iloc[i]\n",
    "            \n",
    "            img = cv2.imread( imgDir + row['name'])\n",
    "            img = cv2.cvtColor(img, cv2.COLOR_BGR2RGB)\n",
    "            img = cv2.resize(img, (227,227))\n",
    "            img = img / 255\n",
    "            bat_img.append(img)\n",
    "            \n",
    "            bat_roi_h.append(row['rois_h'])\n",
    "            bat_roi_o.append(row['rois_o'])\n",
    "            bat_score_o.append(row['score'])\n",
    "            \n",
    "            bat_label.append(row['action_no'])\n",
    "        \n",
    "            # pairwise stream data - with padding & without padding\n",
    "            hum_bbox = row['hum_bbox']\n",
    "            obj_bbox = row['obj_bbox']\n",
    "    \n",
    "            hum_bbox_t = [hum_bbox[0], hum_bbox[2], hum_bbox[1], hum_bbox[3]]\n",
    "            obj_bbox_t = [obj_bbox[0], obj_bbox[2], obj_bbox[1], obj_bbox[3]]    \n",
    "\n",
    "            p_n_pad = get_map_n_pad(hum_bbox_t,obj_bbox_t,64)\n",
    "            p_w_pad = get_map_w_pad(hum_bbox_t,obj_bbox_t,64)\n",
    "\n",
    "            p_n_pad = p_n_pad[0]\n",
    "            p_w_pad = p_w_pad[0]\n",
    "\n",
    "            p_n_pad = p_n_pad.swapaxes(0,1)\n",
    "            p_n_pad = p_n_pad.swapaxes(1,2)\n",
    "\n",
    "            p_w_pad = p_w_pad.swapaxes(0,1)\n",
    "            p_w_pad = p_w_pad.swapaxes(1,2)\n",
    "            \n",
    "            bat_p_n_pad.append(p_n_pad)\n",
    "            bat_p_w_pad.append(p_w_pad)\n",
    "\n",
    "      \n",
    "        \n",
    "            if ((i+1) % bs == 0):                \n",
    "                if pad == 0:\n",
    "                    x_batch = [np.array(bat_img), \n",
    "                                np.array(bat_roi_h), \n",
    "                                np.array(bat_roi_o), \n",
    "                                np.array(bat_p_n_pad), \n",
    "                                np.array(bat_score_o)]\n",
    "                \n",
    "                elif pad == 1:\n",
    "                    x_batch = [np.array(bat_img), \n",
    "                               np.array(bat_roi_h), \n",
    "                               np.array(bat_roi_o), \n",
    "                               np.array(bat_p_w_pad), \n",
    "                               np.array(bat_score_o)]\n",
    "                \n",
    "                batch_action = np.eye(600)[np.array(bat_label)-1] # 600類 所以寫599 (因為取 [600] 其實是取到第601個，會有error)\n",
    "                y_batch = [batch_action]\n",
    "                \n",
    "                bat_img, bat_roi_o, bat_roi_h, bat_p_n_pad, bat_p_w_pad, bat_score_o = [],[],[],[],[],[]\n",
    "                bat_label = []\n",
    "                \n",
    "                yield (x_batch, y_batch) "
   ]
  },
  {
   "cell_type": "markdown",
   "metadata": {},
   "source": [
    "# Examine Image Loaded"
   ]
  },
  {
   "cell_type": "code",
   "execution_count": 17,
   "metadata": {
    "collapsed": true
   },
   "outputs": [],
   "source": [
    "# img_hoi_train = pd.read_csv('hico_det/anno_box_train.csv',encoding = \"utf-8\")\n",
    "# action_list   = pd.read_csv('hico_det/action_list.csv',encoding = \"utf-8\")\n",
    "\n",
    "# pair_bbox = []\n",
    "# for i in range(10):\n",
    "#     img_hoi = img_hoi_train.iloc[i]\n",
    "\n",
    "#     input_img = cv2.imread(data_path + '/images/train2015/' + img_hoi['name'])\n",
    "#     RGB_img1= cv2.cvtColor(input_img, cv2.COLOR_BGR2RGB)\n",
    "#     RGB_img = cv2.cvtColor(input_img, cv2.COLOR_BGR2RGB)\n",
    "    \n",
    "#     human_bbox =img_hoi['human_bbox'].strip('()').split(',') # 分開來 \n",
    "#     human_bbox = [int(x) for x in human_bbox]                # 將字串轉成數字\n",
    "    \n",
    "#     cv2.rectangle(RGB_img, \n",
    "#                   (human_bbox[0], human_bbox[2]), \n",
    "#                   (human_bbox[1], human_bbox[3]), \n",
    "#                   (0,0,255), 2)\n",
    "    \n",
    "#     obj_bbox =img_hoi['obj_bbox'].strip('()').split(',') # 分開來 \n",
    "#     obj_bbox = [int(x) for x in obj_bbox]                # 將字串轉成數字\n",
    " \n",
    "#     cv2.rectangle(RGB_img, \n",
    "#                   (obj_bbox[0], obj_bbox[2]), \n",
    "#                   (obj_bbox[1], obj_bbox[3]), \n",
    "#                   (0,255,0), 2)\n",
    "\n",
    "#     pair_bbox = list([min(human_bbox[0],obj_bbox[0]),\n",
    "#                       max(human_bbox[1],obj_bbox[1]),\n",
    "#                       min(human_bbox[2],obj_bbox[2]),\n",
    "#                       max(human_bbox[3],obj_bbox[3])])\n",
    "    \n",
    "#     cv2.rectangle(RGB_img, \n",
    "#                   (pair_bbox[0], pair_bbox[2]), \n",
    "#                   (pair_bbox[1], pair_bbox[3]), \n",
    "#                   (255,0,0), 2)\n",
    "   \n",
    "#     h = RGB_img1[human_bbox[2]:human_bbox[3],human_bbox[0]:human_bbox[1]]\n",
    "#     o = RGB_img1[obj_bbox[2]:obj_bbox[3],obj_bbox[0]:obj_bbox[1]]\n",
    "#     p = RGB_img[pair_bbox[2]:pair_bbox[3],pair_bbox[0]:pair_bbox[1]]\n",
    "   \n",
    "#     df_action = action_list[action_list['id'] == img_hoi['action_no']]\n",
    "#     fig = plt.figure(figsize=(3,3))\n",
    "#     plt.title('act:{}, obj:{}'.format(df_action['verb'].iloc[0], df_action['object'].iloc[0]))\n",
    "#     plt.imshow(RGB_img)\n",
    "#     plt.show()\n"
   ]
  },
  {
   "cell_type": "markdown",
   "metadata": {},
   "source": [
    "# ROI Tag"
   ]
  },
  {
   "cell_type": "code",
   "execution_count": 18,
   "metadata": {
    "collapsed": true
   },
   "outputs": [],
   "source": [
    "for i in range (len(img_hoi_train)):\n",
    "\n",
    "    input_img = cv2.imread(data_path + '/images/train2015/' + img_hoi['name'])#     #print(rois.shape) \n",
    "    #tuple換list即可計\n",
    "    img_hoi_train['ris_o'][i][0]=img_hoi_train['rois_o'][i][0]/(input_img.shape[0])*13 # *227/227相消\n",
    "    img_hoi_train['rois_o'][i][1]=img_hoi_train['rois_o'][i][1]/(input_img.shape[1])*13 # *227/227相消\n",
    "    img_hoi_train['rois_o'][i][2]=img_hoi_train['rois_o'][i][2]/(input_img.shape[0])*13 # *227/227相消\n",
    "    img_hoi_train['rois_o'][i][3]=img_hoi_train['rois_o'][i][3]/(input_img.shape[1])*13 # *227/227相消\n",
    "    \n",
    "    img_hoi_train['rois_h'][i][0]=img_hoi_train['rois_h'][i][0]/(input_img.shape[0])*13 # *227/227相消\n",
    "    img_hoi_train['rois_h'][i][1]=img_hoi_train['rois_h'][i][1]/(input_img.shape[1])*13 # *227/227相消\n",
    "    img_hoi_train['rois_h'][i][2]=img_hoi_train['rois_h'][i][2]/(input_img.shape[0])*13 # *227/227相消\n",
    "    img_hoi_train['rois_h'][i][3]=img_hoi_train['rois_h'][i][3]/(input_img.shape[1])*13 # *227/227相消"
   ]
  },
  {
   "cell_type": "code",
   "execution_count": 19,
   "metadata": {
    "collapsed": true
   },
   "outputs": [],
   "source": [
    "#img_hoi_train.to_csv(\"img_hoi_train_new.csv\")"
   ]
  },
  {
   "cell_type": "code",
   "execution_count": null,
   "metadata": {
    "collapsed": true
   },
   "outputs": [],
   "source": [
    "# str to list\n",
    "img_hoi_train['rois_o'] = img_hoi_train['rois_o'].apply(lambda x: list(map(float,x.strip('[]').split(','))))\n",
    "img_hoi_train['rois_h'] = img_hoi_train['rois_h'].apply(lambda x: list(map(float,x.strip('[]').split(','))))\n",
    "img_hoi_train['hum_bbox'] = img_hoi_train['hum_bbox'].apply(lambda x: list(map(int,x.strip('[]').split(','))))\n",
    "img_hoi_train['obj_bbox'] = img_hoi_train['obj_bbox'].apply(lambda x: list(map(int,x.strip('[]').split(','))))"
   ]
  },
  {
   "cell_type": "markdown",
   "metadata": {},
   "source": [
    "# Build model (CNN)"
   ]
  },
  {
   "cell_type": "code",
   "execution_count": 16,
   "metadata": {},
   "outputs": [
    {
     "name": "stderr",
     "output_type": "stream",
     "text": [
      "/opt/conda/lib/python3.6/site-packages/keras/engine/topology.py:636: UserWarning: Class `__main__.LRN` defines `get_output_shape_for` but does not override `compute_output_shape`. If this is a Keras 1 layer, please implement `compute_output_shape` to support Keras 2.\n",
      "  output_shape = self.compute_output_shape(input_shape)\n"
     ]
    }
   ],
   "source": [
    "# caffe中在pooling時隱含了pad操作，需要在keras中補上\n",
    "\n",
    "inputs_image = Input(shape=(227,227,3))\n",
    "pad1 = ZeroPadding2D(padding=(2, 2))(inputs_image)\n",
    "conv1 = Convolution2D(96, (11, 11),strides=(4, 4))(pad1)\n",
    "conv1 = Activation(\"relu\")(conv1)\n",
    "#pool1 = ZeroPadding2D(padding=(2, 2))(conv1) \n",
    "pool1 = MaxPooling2D(pool_size=(3, 3), strides=(2, 2))(conv1)\n",
    "norm1 = LRN()(pool1)\n",
    "\n",
    "pad2 = ZeroPadding2D(padding=(2, 2))(norm1)\n",
    "conv2 = Convolution2D(256, (5, 5))(pad2)\n",
    "conv2 = Activation(\"relu\")(conv2)\n",
    "#pool2 = ZeroPadding2D(padding=(2, 2))(conv2)\n",
    "pool2 = MaxPooling2D(pool_size=(3, 3), strides=(2, 2))(conv2)\n",
    "norm2 = LRN()(pool2)\n",
    "\n",
    "conv3 = Convolution2D(384, (3, 3), padding=\"same\")(norm2)\n",
    "conv3 = Activation(\"relu\")(conv3)\n",
    "\n",
    "conv4 = Convolution2D(384, (3, 3), padding=\"same\")(conv3)\n",
    "conv4 = Activation(\"relu\")(conv4)\n",
    "\n",
    "conv5 = Convolution2D(256, (3, 3), padding=\"same\")(conv4)\n",
    "image_cnn_output = Activation(\"relu\")(conv5)"
   ]
  },
  {
   "cell_type": "code",
   "execution_count": 17,
   "metadata": {
    "collapsed": true
   },
   "outputs": [],
   "source": [
    "model = Model(inputs=[inputs_image], outputs=[image_cnn_output])\n",
    "# model.summary()"
   ]
  },
  {
   "cell_type": "markdown",
   "metadata": {},
   "source": [
    "# Test CNN Layer"
   ]
  },
  {
   "cell_type": "code",
   "execution_count": 18,
   "metadata": {},
   "outputs": [
    {
     "name": "stdout",
     "output_type": "stream",
     "text": [
      "(1, 227, 227, 3)\n",
      "(1, 13, 13, 256)\n"
     ]
    }
   ],
   "source": [
    "img_name = img_hoi_train['name'].iloc[0] # img_hoi_train['name'].iloc[0]\n",
    "img_path = data_path + '/images/train2015/' + img_name\n",
    "\n",
    "img       = image.load_img(img_path, target_size=(227, 227, 3))\n",
    "img_arr   = image.img_to_array(img)\n",
    "batch_img = np.array([img_arr])\n",
    "\n",
    "print(batch_img.shape)\n",
    "print(model.predict(x=batch_img).shape)"
   ]
  },
  {
   "cell_type": "markdown",
   "metadata": {},
   "source": [
    "# Human Stream"
   ]
  },
  {
   "cell_type": "code",
   "execution_count": 19,
   "metadata": {
    "collapsed": true
   },
   "outputs": [],
   "source": [
    "inputs_h   = Input(shape=(4,))\n",
    "roi_pool_h = RoiPoolingConv(6)([image_cnn_output, inputs_h])\n",
    "\n",
    "#flat_h = Flatten()(roi_pool_h)\n",
    "gaph = GlobalAveragePooling2D()(roi_pool_h)\n",
    "\n",
    "fc1h = Dense(4096)(gaph)\n",
    "fc1h = Activation(\"relu\")(fc1h)\n",
    "\n",
    "fc2h = Dense(4096)(fc1h)\n",
    "fc2h = Activation(\"relu\")(fc2h)\n",
    "\n",
    "cls_score_vo_h = Dense(600)(fc2h)"
   ]
  },
  {
   "cell_type": "code",
   "execution_count": 20,
   "metadata": {
    "collapsed": true
   },
   "outputs": [],
   "source": [
    "model = Model(inputs=[inputs_image, inputs_h], outputs=cls_score_vo_h)\n",
    "# model.summary()"
   ]
  },
  {
   "cell_type": "markdown",
   "metadata": {},
   "source": [
    "# Test Human Layer (做 rois_h/o for ROI pooling 之前的 test)"
   ]
  },
  {
   "cell_type": "code",
   "execution_count": 36,
   "metadata": {},
   "outputs": [
    {
     "name": "stdout",
     "output_type": "stream",
     "text": [
      "[6.059080962800875, 8.896875, 0.5689277899343544, 7.2515625]\n",
      "[[ 0.46608315  0.684375    0.04376368  0.5578125 ]]\n"
     ]
    }
   ],
   "source": [
    "'''\n",
    "rois_h = img_hoi_train['rois_h'].iloc[1]\n",
    "print(rois_h)\n",
    "rois_h = np.array([rois_h]) / 13\n",
    "print(rois_h)\n",
    "'''"
   ]
  },
  {
   "cell_type": "code",
   "execution_count": 41,
   "metadata": {},
   "outputs": [
    {
     "name": "stdout",
     "output_type": "stream",
     "text": [
      "[[ 0.04376368  0.46608315  0.5578125   0.684375  ]]\n",
      "(1, 4)\n",
      "(1, 227, 227, 3)\n"
     ]
    }
   ],
   "source": [
    "'''\n",
    "# Convert from [x1,x2,y1,y2] to [y1,x1,y2,x2]\n",
    "\n",
    "rois_h_convt = np.zeros_like(rois_h)\n",
    "rois_h_convt[:,0] = rois_h[:,2]\n",
    "rois_h_convt[:,1] = rois_h[:,0]\n",
    "rois_h_convt[:,2] = rois_h[:,3]\n",
    "rois_h_convt[:,3] = rois_h[:,1]\n",
    "\n",
    "print(rois_h_convt)\n",
    "print(rois_h_convt.shape)\n",
    "print(batch_img.shape)\n",
    "'''"
   ]
  },
  {
   "cell_type": "code",
   "execution_count": 21,
   "metadata": {},
   "outputs": [
    {
     "name": "stdout",
     "output_type": "stream",
     "text": [
      "[[ 0.07221007  0.45514223  0.46875     0.6671875 ]]\n",
      "(1, 4)\n",
      "(1, 227, 227, 3)\n"
     ]
    }
   ],
   "source": [
    "batch = img_hoi_train.iloc[0:1]\n",
    "rois_h = np.array(batch['rois_h'].tolist())\n",
    "print(rois_h)\n",
    "print(rois_h.shape)\n",
    "print(batch_img.shape)"
   ]
  },
  {
   "cell_type": "code",
   "execution_count": 22,
   "metadata": {},
   "outputs": [
    {
     "data": {
      "text/plain": [
       "(1, 600)"
      ]
     },
     "execution_count": 22,
     "metadata": {},
     "output_type": "execute_result"
    }
   ],
   "source": [
    "res = model.predict(x=[batch_img, rois_h])\n",
    "res.shape"
   ]
  },
  {
   "cell_type": "markdown",
   "metadata": {},
   "source": [
    "## Object Stream ##"
   ]
  },
  {
   "cell_type": "code",
   "execution_count": 23,
   "metadata": {
    "collapsed": true
   },
   "outputs": [],
   "source": [
    "inputs_o = Input(shape=(4,))\n",
    "roi_pool_o = RoiPoolingConv(6)([image_cnn_output, inputs_o])\n",
    "\n",
    "#flat_o = Flatten()(roi_pool_o)\n",
    "gapo = GlobalAveragePooling2D()(roi_pool_o)\n",
    "\n",
    "fc1o = Dense(4096)(gapo)\n",
    "fc1o = Activation(\"relu\")(fc1o)\n",
    "\n",
    "fc2o = Dense(4096)(fc1o)\n",
    "fc2o = Activation(\"relu\")(fc2o)\n",
    "\n",
    "cls_score_vo_o = Dense(600)(fc2o)"
   ]
  },
  {
   "cell_type": "code",
   "execution_count": 24,
   "metadata": {
    "collapsed": true
   },
   "outputs": [],
   "source": [
    "model = Model(inputs=[inputs_image, inputs_o], outputs=cls_score_vo_o)\n",
    "# model.summary()"
   ]
  },
  {
   "cell_type": "code",
   "execution_count": 46,
   "metadata": {},
   "outputs": [
    {
     "name": "stdout",
     "output_type": "stream",
     "text": [
      "(1, 4)\n",
      "[[ 0.25164114  0.16849015  0.61875     0.9109375 ]]\n"
     ]
    }
   ],
   "source": [
    "'''\n",
    "# Convert from [x1,x2,y1,y2] to [y1,x1,y2,x2]\n",
    "\n",
    "rois_o_convt = np.zeros_like(rois_o)\n",
    "rois_o_convt[:,0] = rois_o[:,2]\n",
    "rois_o_convt[:,1] = rois_o[:,0]\n",
    "rois_o_convt[:,2] = rois_o[:,3]\n",
    "rois_o_convt[:,3] = rois_o[:,1]\n",
    "\n",
    "print(rois_o_convt.shape)\n",
    "print(rois_o_convt)\n",
    "'''"
   ]
  },
  {
   "cell_type": "code",
   "execution_count": 25,
   "metadata": {},
   "outputs": [
    {
     "name": "stdout",
     "output_type": "stream",
     "text": [
      "(1, 4)\n",
      "[[ 0.21444201  0.12910284  0.6328125   0.89375   ]]\n"
     ]
    }
   ],
   "source": [
    "batch = img_hoi_train.iloc[0:1]\n",
    "rois_o = np.array(batch['rois_o'].tolist())\n",
    "print(rois_o.shape)\n",
    "print(rois_o)"
   ]
  },
  {
   "cell_type": "code",
   "execution_count": 26,
   "metadata": {},
   "outputs": [
    {
     "data": {
      "text/plain": [
       "(1, 600)"
      ]
     },
     "execution_count": 26,
     "metadata": {},
     "output_type": "execute_result"
    }
   ],
   "source": [
    "res = model.predict(x= [batch_img, rois_o])\n",
    "res.shape"
   ]
  },
  {
   "cell_type": "markdown",
   "metadata": {},
   "source": [
    "# Pairwise Stream"
   ]
  },
  {
   "cell_type": "code",
   "execution_count": 27,
   "metadata": {
    "collapsed": true
   },
   "outputs": [],
   "source": [
    "inputs_p = Input(shape=(64,64,2))\n",
    "conv1p = Convolution2D(64, (5, 5), padding=\"same\")(inputs_p)\n",
    "conv1p = Activation(\"relu\")(conv1p)\n",
    "#pool1p = ZeroPadding2D(padding=(2, 2))(conv1p) \n",
    "pool1p = MaxPooling2D(pool_size=(3, 3), strides=(2, 2))(conv1p)\n",
    "\n",
    "conv2p = Convolution2D(32, (5, 5), padding=\"same\")(pool1p)\n",
    "conv2p = Activation(\"relu\")(conv2p)\n",
    "pool2p = MaxPooling2D(pool_size=(3, 3), strides=(2, 2))(conv2p)\n",
    "\n",
    "flat_p = Flatten()(pool2p)\n",
    "fc3p = Dense(256)(flat_p)\n",
    "fc3p = Activation(\"relu\")(fc3p)\n",
    "cls_score_vo_p = Dense(600)(fc3p)"
   ]
  },
  {
   "cell_type": "markdown",
   "metadata": {},
   "source": [
    "# Score of Object Detection"
   ]
  },
  {
   "cell_type": "code",
   "execution_count": 28,
   "metadata": {
    "collapsed": true
   },
   "outputs": [],
   "source": [
    "inputs_score_o  = Input(shape=(1,))\n",
    "cls_score_so_o  = Dense(80)(inputs_score_o)\n",
    "cls_score_so    = Dense(600)(inputs_score_o)"
   ]
  },
  {
   "cell_type": "markdown",
   "metadata": {},
   "source": [
    "# Model Output (combine all the classification results)"
   ]
  },
  {
   "cell_type": "code",
   "execution_count": 29,
   "metadata": {
    "collapsed": true
   },
   "outputs": [],
   "source": [
    "cls_score_vo    = Add()([cls_score_vo_h, cls_score_vo_o, cls_score_vo_p])\n",
    "cls_score       = Add()([cls_score_vo, cls_score_so])\n",
    "cls_prob        = Activation(\"softmax\")(cls_score)"
   ]
  },
  {
   "cell_type": "markdown",
   "metadata": {},
   "source": [
    "# Prepare data for model"
   ]
  },
  {
   "cell_type": "code",
   "execution_count": 30,
   "metadata": {},
   "outputs": [
    {
     "name": "stdout",
     "output_type": "stream",
     "text": [
      "(?, 227, 227, 3)\n",
      "(?, 4)\n",
      "(?, 4)\n",
      "(?, 64, 64, 2)\n",
      "(?, 1)\n",
      "(?, 600)\n",
      "=============================data=============================\n"
     ]
    },
    {
     "data": {
      "text/plain": [
       "'\\nprint(a[0][0].shape)\\nprint(a[0][1].shape)\\nprint(a[0][2].shape)\\nprint(a[0][3].shape)\\nprint(a[0][4].shape)\\n'"
      ]
     },
     "execution_count": 30,
     "metadata": {},
     "output_type": "execute_result"
    }
   ],
   "source": [
    "#check if model shape = input shape \n",
    "print(inputs_image.shape)    # image input\n",
    "print(inputs_h.shape)        # human stream input\n",
    "print(inputs_o.shape)        # object stream input\n",
    "print(inputs_p.shape)        # pairwise stream input\n",
    "print(inputs_score_o.shape)  # object score input\n",
    "print(cls_prob.shape)        # ho rcnn output\n",
    "\n",
    "print('=============================data=============================')\n",
    "\n",
    "#a=(x_batch, y_batch) ，第一個[0] 是 x_batch，第二個才是 x_batch[0] 才是 [?,227,227,3]\n",
    "'''\n",
    "print(a[0][0].shape)\n",
    "print(a[0][1].shape)\n",
    "print(a[0][2].shape)\n",
    "print(a[0][3].shape)\n",
    "print(a[0][4].shape)\n",
    "'''"
   ]
  },
  {
   "cell_type": "code",
   "execution_count": 31,
   "metadata": {
    "collapsed": true
   },
   "outputs": [],
   "source": [
    "def focal_loss(gamma=2., alpha=.25):\n",
    "    def focal_loss_fixed(y_true, y_pred):\n",
    "            pt_1 = tf.where(tf.equal(y_true, 1), y_pred, tf.ones_like(y_pred))\n",
    "            pt_0 = tf.where(tf.equal(y_true, 0), y_pred, tf.zeros_like(y_pred))\n",
    "            return -K.sum(alpha * K.pow(1. - pt_1, gamma) * K.log(pt_1))-K.sum((1-alpha) * K.pow( pt_0, gamma) * K.log(1. - pt_0))\n",
    "    return focal_loss_fixed"
   ]
  },
  {
   "cell_type": "code",
   "execution_count": 36,
   "metadata": {
    "collapsed": true
   },
   "outputs": [],
   "source": [
    "model = Model(inputs=[inputs_image, inputs_h, inputs_o, inputs_p, inputs_score_o], \n",
    "              outputs=[cls_prob])\n",
    "\n",
    "# initiate Adam optimizer\n",
    "opt = keras.optimizers.Adam(lr=0.001, decay=1e-6)\n",
    "\n",
    "def top_n_accuracy(y_true, y_pred):\n",
    "    return top_k_categorical_accuracy(y_true, y_pred, k=1)\n",
    "\n",
    "model.compile(loss=[focal_loss(alpha=.25, gamma=2)], #loss='categorical_crossentropy'\n",
    "              optimizer=opt,\n",
    "              metrics=[top_n_accuracy])"
   ]
  },
  {
   "cell_type": "code",
   "execution_count": 43,
   "metadata": {},
   "outputs": [
    {
     "data": {
      "text/plain": [
       "\"\\n# 檢查generator 是否讓跑不動\\ngen = batch_generator(x_train, y_train, 1, 10, train_row)\\nfor i in range(10):\\n    tmp = next(gen)\\n    print('----')\\n    for j in tmp[0]:\\n        print(j.shape)\\n\""
      ]
     },
     "execution_count": 43,
     "metadata": {},
     "output_type": "execute_result"
    }
   ],
   "source": [
    "'''\n",
    "# 檢查generator 是否讓跑不動\n",
    "gen = batch_generator(x_train, y_train, 1, 10, train_row)\n",
    "for i in range(10):\n",
    "    tmp = next(gen)\n",
    "    print('----')\n",
    "    for j in tmp[0]:\n",
    "        print(j.shape)\n",
    "'''"
   ]
  },
  {
   "cell_type": "code",
   "execution_count": 33,
   "metadata": {},
   "outputs": [
    {
     "name": "stdout",
     "output_type": "stream",
     "text": [
      "Epoch 1/30\n",
      "20/20 [==============================] - 32s 2s/step - loss: 114.2818 - top_n_accuracy: 0.1820 - val_loss: 13.2575 - val_top_n_accuracy: 0.2000\n",
      "Epoch 2/30\n",
      "20/20 [==============================] - 30s 2s/step - loss: 82.0184 - top_n_accuracy: 0.2930 - val_loss: 12.6303 - val_top_n_accuracy: 0.3100\n",
      "Epoch 3/30\n",
      "20/20 [==============================] - 29s 1s/step - loss: 72.4907 - top_n_accuracy: 0.4297 - val_loss: 11.0584 - val_top_n_accuracy: 0.4300\n",
      "Epoch 4/30\n",
      "20/20 [==============================] - 28s 1s/step - loss: 71.9972 - top_n_accuracy: 0.4180 - val_loss: 10.1332 - val_top_n_accuracy: 0.5300\n",
      "Epoch 5/30\n",
      "20/20 [==============================] - 27s 1s/step - loss: 68.0657 - top_n_accuracy: 0.4766 - val_loss: 10.3542 - val_top_n_accuracy: 0.5000\n",
      "Epoch 6/30\n",
      "20/20 [==============================] - 26s 1s/step - loss: 66.1867 - top_n_accuracy: 0.4938 - val_loss: 10.6881 - val_top_n_accuracy: 0.4600\n",
      "Epoch 7/30\n",
      "20/20 [==============================] - 26s 1s/step - loss: 63.0528 - top_n_accuracy: 0.5117 - val_loss: 10.8198 - val_top_n_accuracy: 0.4400\n",
      "Epoch 8/30\n",
      "20/20 [==============================] - 26s 1s/step - loss: 65.2659 - top_n_accuracy: 0.4820 - val_loss: 9.9798 - val_top_n_accuracy: 0.4700\n",
      "Epoch 9/30\n",
      "20/20 [==============================] - 25s 1s/step - loss: 61.4967 - top_n_accuracy: 0.5328 - val_loss: 10.0165 - val_top_n_accuracy: 0.4700\n",
      "Epoch 10/30\n",
      "20/20 [==============================] - 26s 1s/step - loss: 62.5437 - top_n_accuracy: 0.5078 - val_loss: 9.7534 - val_top_n_accuracy: 0.6000\n",
      "Epoch 11/30\n",
      "20/20 [==============================] - 24s 1s/step - loss: 59.2303 - top_n_accuracy: 0.5625 - val_loss: 8.5645 - val_top_n_accuracy: 0.6600\n",
      "Epoch 12/30\n",
      "20/20 [==============================] - 24s 1s/step - loss: 60.3198 - top_n_accuracy: 0.5531 - val_loss: 10.1010 - val_top_n_accuracy: 0.5000\n",
      "Epoch 13/30\n",
      "20/20 [==============================] - 25s 1s/step - loss: 59.1264 - top_n_accuracy: 0.5516 - val_loss: 9.0263 - val_top_n_accuracy: 0.5700\n",
      "Epoch 14/30\n",
      "20/20 [==============================] - 23s 1s/step - loss: 59.5329 - top_n_accuracy: 0.5625 - val_loss: 10.1896 - val_top_n_accuracy: 0.5200\n",
      "Epoch 15/30\n",
      "20/20 [==============================] - 23s 1s/step - loss: 57.7313 - top_n_accuracy: 0.5695 - val_loss: 8.7709 - val_top_n_accuracy: 0.5800\n",
      "Epoch 16/30\n",
      "20/20 [==============================] - 24s 1s/step - loss: 60.3593 - top_n_accuracy: 0.5406 - val_loss: 9.4132 - val_top_n_accuracy: 0.5600\n",
      "Epoch 17/30\n",
      "20/20 [==============================] - 23s 1s/step - loss: 58.4272 - top_n_accuracy: 0.5703 - val_loss: 9.3067 - val_top_n_accuracy: 0.5500\n",
      "Epoch 18/30\n",
      "20/20 [==============================] - 23s 1s/step - loss: 56.8432 - top_n_accuracy: 0.5891 - val_loss: 9.3479 - val_top_n_accuracy: 0.5300\n",
      "Epoch 19/30\n",
      "20/20 [==============================] - 24s 1s/step - loss: 59.2470 - top_n_accuracy: 0.5672 - val_loss: 9.4216 - val_top_n_accuracy: 0.5400\n",
      "Epoch 20/30\n",
      "20/20 [==============================] - 22s 1s/step - loss: 58.5358 - top_n_accuracy: 0.5672 - val_loss: 9.3088 - val_top_n_accuracy: 0.5400\n",
      "Epoch 21/30\n",
      "20/20 [==============================] - 22s 1s/step - loss: 57.4520 - top_n_accuracy: 0.5930 - val_loss: 8.5190 - val_top_n_accuracy: 0.6200\n",
      "Epoch 22/30\n",
      "20/20 [==============================] - 21s 1s/step - loss: 57.4149 - top_n_accuracy: 0.5867 - val_loss: 9.3302 - val_top_n_accuracy: 0.4900\n",
      "Epoch 23/30\n",
      "20/20 [==============================] - 21s 1s/step - loss: 58.1830 - top_n_accuracy: 0.5758 - val_loss: 8.9938 - val_top_n_accuracy: 0.5300\n",
      "Epoch 24/30\n",
      "20/20 [==============================] - 21s 1s/step - loss: 56.7684 - top_n_accuracy: 0.5961 - val_loss: 8.2946 - val_top_n_accuracy: 0.6100\n",
      "Epoch 25/30\n",
      "20/20 [==============================] - 21s 1s/step - loss: 54.5861 - top_n_accuracy: 0.6234 - val_loss: 8.4784 - val_top_n_accuracy: 0.6200\n",
      "Epoch 26/30\n",
      "20/20 [==============================] - 21s 1s/step - loss: 57.3656 - top_n_accuracy: 0.5750 - val_loss: 8.5380 - val_top_n_accuracy: 0.5700\n",
      "Epoch 27/30\n",
      "20/20 [==============================] - 22s 1s/step - loss: 54.8813 - top_n_accuracy: 0.6070 - val_loss: 7.5756 - val_top_n_accuracy: 0.6400\n",
      "Epoch 28/30\n",
      "20/20 [==============================] - 21s 1s/step - loss: 54.0969 - top_n_accuracy: 0.6133 - val_loss: 8.4071 - val_top_n_accuracy: 0.6700\n",
      "Epoch 29/30\n",
      "20/20 [==============================] - 22s 1s/step - loss: 56.0636 - top_n_accuracy: 0.5945 - val_loss: 9.2454 - val_top_n_accuracy: 0.5800\n",
      "Epoch 30/30\n",
      "20/20 [==============================] - 19s 973ms/step - loss: 55.9850 - top_n_accuracy: 0.5859 - val_loss: 8.6743 - val_top_n_accuracy: 0.6100\n"
     ]
    },
    {
     "data": {
      "text/plain": [
       "'\\nbat = next(batch_generator(x_train, y_train, 1, 10, train_row))\\nmodel.fit(x=bat[0], y=bat[1],epochs=20)\\n'"
      ]
     },
     "execution_count": 33,
     "metadata": {},
     "output_type": "execute_result"
    }
   ],
   "source": [
    "earlystop = EarlyStopping(monitor='val_loss', patience=20, verbose=1) # 若五次的training都沒有進步就會停下來\n",
    "\n",
    "size = 0.2\n",
    "x_train, x_test, y_train, y_test = train_test_split(img_hoi_train, img_hoi_train['action_no'], test_size=size, random_state=6)\n",
    "\n",
    "train_row = int(len(img_hoi_train.index)*(1-size))\n",
    "test_row  = int(len(img_hoi_train.index)*(size))\n",
    "\n",
    "model.fit_generator(batch_generator(x_train, y_train, 1, 64, train_row, imgDir),\n",
    "                    steps_per_epoch=20,\n",
    "                    epochs=30,\n",
    "                    validation_data=(batch_generator(x_test, y_test, 1, 10, test_row, imgDir)),\n",
    "                    validation_steps=10,\n",
    "                    workers=4,\n",
    "                    callbacks=[earlystop]\n",
    "                   )\n",
    "'''\n",
    "for layer in model.layers[:249]:\n",
    "    layer.trainable = False\n",
    "for layer in model.layers[249:]:\n",
    "    layer.trainable = True\n",
    "'''\n",
    "'''\n",
    "bat = next(batch_generator(x_train, y_train, 1, 10, train_row))\n",
    "model.fit(x=bat[0], y=bat[1],epochs=20)\n",
    "'''"
   ]
  },
  {
   "cell_type": "code",
   "execution_count": 34,
   "metadata": {},
   "outputs": [
    {
     "name": "stdout",
     "output_type": "stream",
     "text": [
      "[459 478  19 583  64 245 500 294 471 467]\n",
      "[461 212  20 371  38 245 284 566 472 461]\n",
      "0.123953\n"
     ]
    }
   ],
   "source": [
    "bat = next(batch_generator(x_train, y_train, 1, 10, train_row, imgDir))\n",
    "\n",
    "pred = model.predict(bat[0])\n",
    "print(bat[1][0].argmax(axis=1))\n",
    "print(pred.argmax(axis=1))\n",
    "\n",
    "print(pred[0].max())\n"
   ]
  },
  {
   "cell_type": "code",
   "execution_count": 35,
   "metadata": {},
   "outputs": [
    {
     "name": "stdout",
     "output_type": "stream",
     "text": [
      "[ 20 140 139 141 538  16 336  20 185 212]\n",
      "[264 139 245 320 544  19 495 457 566 323]\n",
      "0.0526035\n"
     ]
    }
   ],
   "source": [
    "bat = next(batch_generator(x_test, y_test, 1, 10, test_row, imgDir))\n",
    "\n",
    "pred = model.predict(bat[0])\n",
    "print(bat[1][0].argmax(axis=1))\n",
    "print(pred.argmax(axis=1))\n",
    "\n",
    "print(pred[0].max())\n"
   ]
  },
  {
   "cell_type": "code",
   "execution_count": 36,
   "metadata": {},
   "outputs": [
    {
     "name": "stdout",
     "output_type": "stream",
     "text": [
      "[[  0 396 397 ..., 197 599 109]\n",
      " [  0 396 397 ..., 204 197  18]\n",
      " [  0 396 397 ..., 196 599 377]]\n",
      "[[579 336 200 ...,  38 108 109]\n",
      " [564 579  24 ..., 154  18  20]\n",
      " [283  24 335 ...,  93  89 169]]\n"
     ]
    }
   ],
   "source": [
    "bat = next(batch_generator(x_test, y_test, 1, 10, test_row, imgDir))\n",
    "\n",
    "pred = model.predict(bat[0])\n",
    "print(bat[1][0].argsort()[-3:]) # 每張圖取前3名，若要由小到大則要增加[::-1]\n",
    "print(pred.argsort()[-3:])\n"
   ]
  },
  {
   "cell_type": "markdown",
   "metadata": {},
   "source": [
    "# Evaluation"
   ]
  },
  {
   "cell_type": "code",
   "execution_count": 34,
   "metadata": {
    "collapsed": true
   },
   "outputs": [],
   "source": [
    "imgDir = data_path + '/images/test2015/'\n",
    "\n",
    "img_hoi_test  = pd.read_csv('img_hoi_test_new.csv',    encoding = \"utf-8\")\n",
    "action_list   = pd.read_csv('hico_det/action_list.csv',encoding = \"utf-8\") \n",
    "\n",
    "img_hoi_test = img_hoi_test.rename(columns = {'human_bbox':'hum_bbox'})\n",
    "\n",
    "# string -> list\n",
    "img_hoi_test['rois_h'] = img_hoi_test['rois_h'].apply(lambda x: list(map(float,x.strip('[]').split(','))))\n",
    "img_hoi_test['rois_o'] = img_hoi_test['rois_o'].apply(lambda x: list(map(float,x.strip('[]').split(','))))\n",
    "\n",
    "img_hoi_test['hum_bbox'] = img_hoi_test['hum_bbox'].apply(lambda x: list(map(int,x.strip('[]').split(','))))\n",
    "img_hoi_test['obj_bbox'] = img_hoi_test['obj_bbox'].apply(lambda x: list(map(int,x.strip('[]').split(','))))\n",
    "\n",
    "# list -> array, coordinates on feature map (13*13) -> ratio (1 as denominator)\n",
    "img_hoi_test['rois_h'] = img_hoi_test['rois_h'].apply(lambda x: np.asarray(x) / 13)\n",
    "img_hoi_test['rois_o'] = img_hoi_test['rois_o'].apply(lambda x: np.asarray(x) / 13)\n",
    "\n",
    "# [x1,x2,y1,y2] -> [y1,x1,y2,x2], for def ROI pooling setting, array兩層 為了input model\n",
    "img_hoi_test['rois_h'] = img_hoi_test['rois_h'].apply(lambda x: [ x[2],x[0],x[3],x[1] ])\n",
    "img_hoi_test['rois_o'] = img_hoi_test['rois_o'].apply(lambda x: [ x[2],x[0],x[3],x[1] ])\n",
    "\n",
    "#img_hoi_test.to_csv('img_hoi_test_new_ROIpool.csv')\n",
    "\n",
    "img_hoi_test['score'] = 1"
   ]
  },
  {
   "cell_type": "code",
   "execution_count": 37,
   "metadata": {},
   "outputs": [
    {
     "data": {
      "text/plain": [
       "[329.58362640380858, 0.13047904081642628]"
      ]
     },
     "execution_count": 37,
     "metadata": {},
     "output_type": "execute_result"
    }
   ],
   "source": [
    "# 總共餵 10*100 筆資料進去 predict\n",
    "model.evaluate_generator(batch_generator(img_hoi_test, img_hoi_test['action_no'], 1, 334, len(img_hoi_test), imgDir),steps=100)"
   ]
  },
  {
   "cell_type": "code",
   "execution_count": null,
   "metadata": {
    "collapsed": true
   },
   "outputs": [],
   "source": [
    "# output 會是 model.metrics_names (loss + top_n_accuracy)\n",
    "# next() 會自動作成 for loop, 吐出一個完整list，包含 (x_batch, y_batch)\n",
    "\n",
    "# 總共餵 全部 筆數 資料進去 predict\n",
    "test_data = next(batch_generator(img_hoi_test, img_hoi_test['action_no'], 1, len(img_hoi_test), len(img_hoi_test), imgDir))\n",
    "x_test = test_data[0]\n",
    "y_test = test_data[1]\n",
    "\n",
    "model.evaluate(x_test, y_test, batch_size=None, verbose=0, sample_weight=None)"
   ]
  },
  {
   "cell_type": "code",
   "execution_count": 38,
   "metadata": {},
   "outputs": [
    {
     "name": "stdout",
     "output_type": "stream",
     "text": [
      "__________________________________________________________________________________________________\n",
      "Layer (type)                    Output Shape         Param #     Connected to                     \n",
      "==================================================================================================\n",
      "input_3 (InputLayer)            (None, 227, 227, 3)  0                                            \n",
      "__________________________________________________________________________________________________\n",
      "zero_padding2d_1 (ZeroPadding2D (None, 231, 231, 3)  0           input_3[0][0]                    \n",
      "__________________________________________________________________________________________________\n",
      "conv2d_1 (Conv2D)               (None, 56, 56, 96)   34944       zero_padding2d_1[0][0]           \n",
      "__________________________________________________________________________________________________\n",
      "activation_1 (Activation)       (None, 56, 56, 96)   0           conv2d_1[0][0]                   \n",
      "__________________________________________________________________________________________________\n",
      "max_pooling2d_1 (MaxPooling2D)  (None, 27, 27, 96)   0           activation_1[0][0]               \n",
      "__________________________________________________________________________________________________\n",
      "lrn_1 (LRN)                     (None, 27, 27, 96)   0           max_pooling2d_1[0][0]            \n",
      "__________________________________________________________________________________________________\n",
      "zero_padding2d_2 (ZeroPadding2D (None, 31, 31, 96)   0           lrn_1[0][0]                      \n",
      "__________________________________________________________________________________________________\n",
      "conv2d_2 (Conv2D)               (None, 27, 27, 256)  614656      zero_padding2d_2[0][0]           \n",
      "__________________________________________________________________________________________________\n",
      "activation_2 (Activation)       (None, 27, 27, 256)  0           conv2d_2[0][0]                   \n",
      "__________________________________________________________________________________________________\n",
      "max_pooling2d_2 (MaxPooling2D)  (None, 13, 13, 256)  0           activation_2[0][0]               \n",
      "__________________________________________________________________________________________________\n",
      "lrn_2 (LRN)                     (None, 13, 13, 256)  0           max_pooling2d_2[0][0]            \n",
      "__________________________________________________________________________________________________\n",
      "conv2d_3 (Conv2D)               (None, 13, 13, 384)  885120      lrn_2[0][0]                      \n",
      "__________________________________________________________________________________________________\n",
      "activation_3 (Activation)       (None, 13, 13, 384)  0           conv2d_3[0][0]                   \n",
      "__________________________________________________________________________________________________\n",
      "conv2d_4 (Conv2D)               (None, 13, 13, 384)  1327488     activation_3[0][0]               \n",
      "__________________________________________________________________________________________________\n",
      "input_6 (InputLayer)            (None, 64, 64, 2)    0                                            \n",
      "__________________________________________________________________________________________________\n",
      "activation_4 (Activation)       (None, 13, 13, 384)  0           conv2d_4[0][0]                   \n",
      "__________________________________________________________________________________________________\n",
      "conv2d_6 (Conv2D)               (None, 64, 64, 64)   3264        input_6[0][0]                    \n",
      "__________________________________________________________________________________________________\n",
      "conv2d_5 (Conv2D)               (None, 13, 13, 256)  884992      activation_4[0][0]               \n",
      "__________________________________________________________________________________________________\n",
      "activation_10 (Activation)      (None, 64, 64, 64)   0           conv2d_6[0][0]                   \n",
      "__________________________________________________________________________________________________\n",
      "activation_5 (Activation)       (None, 13, 13, 256)  0           conv2d_5[0][0]                   \n",
      "__________________________________________________________________________________________________\n",
      "input_4 (InputLayer)            (None, 4)            0                                            \n",
      "__________________________________________________________________________________________________\n",
      "input_5 (InputLayer)            (None, 4)            0                                            \n",
      "__________________________________________________________________________________________________\n",
      "max_pooling2d_3 (MaxPooling2D)  (None, 31, 31, 64)   0           activation_10[0][0]              \n",
      "__________________________________________________________________________________________________\n",
      "roi_pooling_conv_2 (RoiPoolingC (None, 6, 6, 256)    0           activation_5[0][0]               \n",
      "                                                                 input_4[0][0]                    \n",
      "__________________________________________________________________________________________________\n",
      "roi_pooling_conv_3 (RoiPoolingC (None, 6, 6, 256)    0           activation_5[0][0]               \n",
      "                                                                 input_5[0][0]                    \n",
      "__________________________________________________________________________________________________\n",
      "conv2d_7 (Conv2D)               (None, 31, 31, 32)   51232       max_pooling2d_3[0][0]            \n",
      "__________________________________________________________________________________________________\n",
      "global_average_pooling2d_1 (Glo (None, 256)          0           roi_pooling_conv_2[0][0]         \n",
      "__________________________________________________________________________________________________\n",
      "global_average_pooling2d_2 (Glo (None, 256)          0           roi_pooling_conv_3[0][0]         \n",
      "__________________________________________________________________________________________________\n",
      "activation_11 (Activation)      (None, 31, 31, 32)   0           conv2d_7[0][0]                   \n",
      "__________________________________________________________________________________________________\n",
      "dense_1 (Dense)                 (None, 4096)         1052672     global_average_pooling2d_1[0][0] \n",
      "__________________________________________________________________________________________________\n",
      "dense_4 (Dense)                 (None, 4096)         1052672     global_average_pooling2d_2[0][0] \n",
      "__________________________________________________________________________________________________\n",
      "max_pooling2d_4 (MaxPooling2D)  (None, 15, 15, 32)   0           activation_11[0][0]              \n",
      "__________________________________________________________________________________________________\n",
      "activation_6 (Activation)       (None, 4096)         0           dense_1[0][0]                    \n",
      "__________________________________________________________________________________________________\n",
      "activation_8 (Activation)       (None, 4096)         0           dense_4[0][0]                    \n",
      "__________________________________________________________________________________________________\n",
      "flatten_1 (Flatten)             (None, 7200)         0           max_pooling2d_4[0][0]            \n",
      "__________________________________________________________________________________________________\n",
      "dense_2 (Dense)                 (None, 4096)         16781312    activation_6[0][0]               \n",
      "__________________________________________________________________________________________________\n",
      "dense_5 (Dense)                 (None, 4096)         16781312    activation_8[0][0]               \n",
      "__________________________________________________________________________________________________\n",
      "dense_7 (Dense)                 (None, 256)          1843456     flatten_1[0][0]                  \n",
      "__________________________________________________________________________________________________\n",
      "activation_7 (Activation)       (None, 4096)         0           dense_2[0][0]                    \n",
      "__________________________________________________________________________________________________\n",
      "activation_9 (Activation)       (None, 4096)         0           dense_5[0][0]                    \n",
      "__________________________________________________________________________________________________\n",
      "activation_12 (Activation)      (None, 256)          0           dense_7[0][0]                    \n",
      "__________________________________________________________________________________________________\n",
      "dense_3 (Dense)                 (None, 600)          2458200     activation_7[0][0]               \n",
      "__________________________________________________________________________________________________\n",
      "dense_6 (Dense)                 (None, 600)          2458200     activation_9[0][0]               \n",
      "__________________________________________________________________________________________________\n",
      "dense_8 (Dense)                 (None, 600)          154200      activation_12[0][0]              \n",
      "__________________________________________________________________________________________________\n",
      "input_7 (InputLayer)            (None, 1)            0                                            \n",
      "__________________________________________________________________________________________________\n",
      "add_1 (Add)                     (None, 600)          0           dense_3[0][0]                    \n",
      "                                                                 dense_6[0][0]                    \n",
      "                                                                 dense_8[0][0]                    \n",
      "__________________________________________________________________________________________________\n",
      "dense_10 (Dense)                (None, 600)          1200        input_7[0][0]                    \n",
      "__________________________________________________________________________________________________\n",
      "add_2 (Add)                     (None, 600)          0           add_1[0][0]                      \n",
      "                                                                 dense_10[0][0]                   \n",
      "__________________________________________________________________________________________________\n",
      "activation_13 (Activation)      (None, 600)          0           add_2[0][0]                      \n",
      "==================================================================================================\n",
      "Total params: 46,384,920\n",
      "Trainable params: 46,384,920\n",
      "Non-trainable params: 0\n",
      "__________________________________________________________________________________________________\n"
     ]
    }
   ],
   "source": [
    "model.summary()"
   ]
  },
  {
   "cell_type": "code",
   "execution_count": null,
   "metadata": {
    "collapsed": true
   },
   "outputs": [],
   "source": [
    "# 補充\n",
    "def reset_weights(model):\n",
    "    session = K.get_session()\n",
    "    for layer in model.layers: \n",
    "        if hasattr(layer, 'kernel_initializer'):\n",
    "            layer.kernel.initializer.run(session=session)"
   ]
  },
  {
   "cell_type": "code",
   "execution_count": null,
   "metadata": {
    "collapsed": true
   },
   "outputs": [],
   "source": []
  }
 ],
 "metadata": {
  "kernelspec": {
   "display_name": "Python 3",
   "language": "python",
   "name": "python3"
  },
  "language_info": {
   "codemirror_mode": {
    "name": "ipython",
    "version": 3
   },
   "file_extension": ".py",
   "mimetype": "text/x-python",
   "name": "python",
   "nbconvert_exporter": "python",
   "pygments_lexer": "ipython3",
   "version": "3.6.2"
  }
 },
 "nbformat": 4,
 "nbformat_minor": 2
}
